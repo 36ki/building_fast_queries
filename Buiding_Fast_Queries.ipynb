{
 "cells": [
  {
   "cell_type": "markdown",
   "metadata": {},
   "source": [
    "# Building Fast Queries\n",
    "\n",
    "This project shows about the time assessing comparison between normal search and using better search and the reference dataset is laptop prices on Kaggle  as this [link](https://www.kaggle.com/ionaskel/laptop-prices)"
   ]
  },
  {
   "cell_type": "markdown",
   "metadata": {},
   "source": [
    "First, import dataset and store header and the other data in separated variable"
   ]
  },
  {
   "cell_type": "code",
   "execution_count": 1,
   "metadata": {
    "scrolled": true
   },
   "outputs": [
    {
     "name": "stdout",
     "output_type": "stream",
     "text": [
      "['Id', 'Company', 'Product', 'TypeName', 'Inches', 'ScreenResolution', 'Cpu', 'Ram', 'Memory', 'Gpu', 'OpSys', 'Weight', 'Price']\n",
      "['6571244', 'Apple', 'MacBook Pro', 'Ultrabook', '13.3', 'IPS Panel Retina Display 2560x1600', 'Intel Core i5 2.3GHz', '8GB', '128GB SSD', 'Intel Iris Plus Graphics 640', 'macOS', '1.37kg', '1339']\n",
      "['7287764', 'Apple', 'Macbook Air', 'Ultrabook', '13.3', '1440x900', 'Intel Core i5 1.8GHz', '8GB', '128GB Flash Storage', 'Intel HD Graphics 6000', 'macOS', '1.34kg', '898']\n",
      "['3362737', 'HP', '250 G6', 'Notebook', '15.6', 'Full HD 1920x1080', 'Intel Core i5 7200U 2.5GHz', '8GB', '256GB SSD', 'Intel HD Graphics 620', 'No OS', '1.86kg', '575']\n",
      "['9722156', 'Apple', 'MacBook Pro', 'Ultrabook', '15.4', 'IPS Panel Retina Display 2880x1800', 'Intel Core i7 2.7GHz', '16GB', '512GB SSD', 'AMD Radeon Pro 455', 'macOS', '1.83kg', '2537']\n",
      "['8550527', 'Apple', 'MacBook Pro', 'Ultrabook', '13.3', 'IPS Panel Retina Display 2560x1600', 'Intel Core i5 3.1GHz', '8GB', '256GB SSD', 'Intel Iris Plus Graphics 650', 'macOS', '1.37kg', '1803']\n"
     ]
    }
   ],
   "source": [
    "import csv\n",
    "with open('laptops.csv') as file:\n",
    "    file = list(csv.reader(file))\n",
    "    header = file[0]\n",
    "    rows = file[1:]\n",
    "print(header)\n",
    "for row in rows[:5]:\n",
    "    print(row)"
   ]
  },
  {
   "cell_type": "markdown",
   "metadata": {},
   "source": [
    "## Inventory Class\n",
    "\n",
    "</br>This class contains 6 functions as detail below:\n",
    "1. **Initiary**\n",
    "<p> This function works in intitial state. When the class is called, it will read file and separate header and data </p>\n",
    "- **header (list)** : store header of dataset\n",
    "- **rows (list)** : store data without header \n",
    "<p>and then, it will create helpful storage for the function support including </p>\n",
    "- **id_to_row (dictionary)** : store id and price (used in 'get_laptop_from_id_fast' function)\n",
    "- **prices (list)** : store only price (used in 'check_promotion_dollars_fast' function)\n",
    "- **rows_by_price (list)** : sort the 'rows' list by price\n",
    "2. **Get laptop id** \n",
    "<p>This function will search data from id in 'rows (list)' </p><br>\n",
    "3. **Get laptop id faster**\n",
    "<p>This functions works as same as section 2 but search in 'id_to_row (dictionary)' instead. </p><br>\n",
    "4. **Check promotion from dollars**\n",
    "<p>This function will search 1-2 laptops which suit with dollars promotion in 'rows (list)'. </p><br>\n",
    "5. **Check promotion from dollars faster**\n",
    "<p>This functions works as same as section 4 but search in 'price (list)' instead. </p><br>\n",
    "6. **Find first laptop more expensive**\n",
    "<p>This function will search laptop which suit with target price by using binary search </p><br>"
   ]
  },
  {
   "cell_type": "code",
   "execution_count": 2,
   "metadata": {},
   "outputs": [],
   "source": [
    "class Inventory:\n",
    "    \n",
    "    #Initiary Function\n",
    "    def __init__(self, csv_filename):\n",
    "        with open(csv_filename) as file:\n",
    "            file = list(csv.reader(file))\n",
    "            \n",
    "        #Store Header\n",
    "        self.header = file[0]\n",
    "        #Store Data\n",
    "        self.rows = file[1:]\n",
    "        #Change type of price (in the last column of each row) to Integer\n",
    "        for row in self.rows:\n",
    "            price = int(row[-1])\n",
    "            row[-1] = price\n",
    "        \n",
    "        #Store id and price in dictionary\n",
    "        self.id_to_row = {}\n",
    "        for row in self.rows:\n",
    "            self.id_to_row[row[0]] = row[1:]\n",
    "            \n",
    "        #Store only price in list    \n",
    "        self.prices = []\n",
    "        for row in self.rows:\n",
    "            self.prices.append(row[-1])\n",
    "            \n",
    "        #Sort data by price\n",
    "        def row_price(row):\n",
    "            return row[-1]\n",
    "        self.rows_by_price = sorted(self.rows, key=row_price)\n",
    "    \n",
    "    #Get laptop from id function\n",
    "    def get_laptop_from_id(self, laptop_id):\n",
    "        for row in self.rows :\n",
    "            if row[0] == laptop_id:\n",
    "                return row\n",
    "        return None\n",
    "    \n",
    "    #Get laptop from id faster function\n",
    "    def get_laptop_from_id_fast(self, laptop_id):\n",
    "        if laptop_id in self.id_to_row:\n",
    "            return self.id_to_row[laptop_id]\n",
    "        else:\n",
    "            return None\n",
    "        \n",
    "    #Check promotion dollars function\n",
    "    def check_promotion_dollars(self, dollars):\n",
    "        for row in self.rows :\n",
    "            if row[-1] == dollars:\n",
    "                return True\n",
    "        for row1 in self.rows :\n",
    "            for row2 in self.rows :\n",
    "                if row1+row2 == dollars:\n",
    "                    return True\n",
    "        return False\n",
    "    \n",
    "    #Check promotion dollars fast function\n",
    "    def check_promotion_dollars_fast(self, dollars):\n",
    "        for price in self.prices:\n",
    "            if price == dollars:\n",
    "                return True\n",
    "        for price1 in self.prices:\n",
    "            for price2 in self.prices:\n",
    "                if price1+price2 == dollars:\n",
    "                    return True\n",
    "        return False\n",
    "    \n",
    "    #Find first laptop more expensive function\n",
    "    def find_first_laptop_more_expensive(self, target_price):\n",
    "        range_start = 0\n",
    "        range_end = len(self.rows_by_price)-1\n",
    "        \n",
    "        while range_start<range_end:\n",
    "            range_middle = (range_end+range_start)//2\n",
    "            price = self.rows_by_price[range_middle][-1]\n",
    "            if price == target_price:\n",
    "                return range_middle\n",
    "            elif price < target_price:\n",
    "                range_start = range_middle + 1\n",
    "            else:\n",
    "                range_end = range_middle - 1\n",
    "        price = self.rows_by_price[range_start][-1]\n",
    "        if price != target_price:\n",
    "            return -1\n",
    "        return range_start"
   ]
  },
  {
   "cell_type": "markdown",
   "metadata": {},
   "source": [
    "### Initiary function\n",
    "\n",
    "call Inventory class and check Intiary function work"
   ]
  },
  {
   "cell_type": "code",
   "execution_count": 3,
   "metadata": {},
   "outputs": [],
   "source": [
    "data = Inventory('laptops.csv')"
   ]
  },
  {
   "cell_type": "code",
   "execution_count": 4,
   "metadata": {
    "scrolled": false
   },
   "outputs": [
    {
     "name": "stdout",
     "output_type": "stream",
     "text": [
      "['Id', 'Company', 'Product', 'TypeName', 'Inches', 'ScreenResolution', 'Cpu', 'Ram', 'Memory', 'Gpu', 'OpSys', 'Weight', 'Price']\n",
      "The number of laptop:  1303\n"
     ]
    }
   ],
   "source": [
    "print(data.header)\n",
    "print('The number of laptop: ',len(data.rows))"
   ]
  },
  {
   "cell_type": "markdown",
   "metadata": {},
   "source": [
    "### Data get laptop function\n",
    "test function by input id '3362737' and '3362736'"
   ]
  },
  {
   "cell_type": "code",
   "execution_count": 5,
   "metadata": {},
   "outputs": [
    {
     "name": "stdout",
     "output_type": "stream",
     "text": [
      "['3362737', 'HP', '250 G6', 'Notebook', '15.6', 'Full HD 1920x1080', 'Intel Core i5 7200U 2.5GHz', '8GB', '256GB SSD', 'Intel HD Graphics 620', 'No OS', '1.86kg', 575]\n"
     ]
    }
   ],
   "source": [
    "print(data.get_laptop_from_id('3362737'))"
   ]
  },
  {
   "cell_type": "code",
   "execution_count": 6,
   "metadata": {
    "scrolled": true
   },
   "outputs": [
    {
     "name": "stdout",
     "output_type": "stream",
     "text": [
      "None\n"
     ]
    }
   ],
   "source": [
    "print(data.get_laptop_from_id('3362736'))"
   ]
  },
  {
   "cell_type": "markdown",
   "metadata": {},
   "source": [
    "### Data get laptop fast function\n",
    "test function by input id '3362737' and '3362736'"
   ]
  },
  {
   "cell_type": "code",
   "execution_count": 7,
   "metadata": {
    "scrolled": true
   },
   "outputs": [
    {
     "name": "stdout",
     "output_type": "stream",
     "text": [
      "['HP', '250 G6', 'Notebook', '15.6', 'Full HD 1920x1080', 'Intel Core i5 7200U 2.5GHz', '8GB', '256GB SSD', 'Intel HD Graphics 620', 'No OS', '1.86kg', 575]\n"
     ]
    }
   ],
   "source": [
    "print(data.get_laptop_from_id_fast('3362737'))"
   ]
  },
  {
   "cell_type": "code",
   "execution_count": 8,
   "metadata": {},
   "outputs": [
    {
     "name": "stdout",
     "output_type": "stream",
     "text": [
      "None\n"
     ]
    }
   ],
   "source": [
    "print(data.get_laptop_from_id_fast('3362736'))"
   ]
  },
  {
   "cell_type": "markdown",
   "metadata": {},
   "source": [
    "### Compare how fast between two function\n",
    "\n",
    "In this section, we will use random to create list which contains different 10000 ids. It could help to clearly see time difference between two function."
   ]
  },
  {
   "cell_type": "code",
   "execution_count": 9,
   "metadata": {},
   "outputs": [
    {
     "name": "stdout",
     "output_type": "stream",
     "text": [
      "Time of first function:  0.9968557357788086\n",
      "Time of second function:  0.004706144332885742\n"
     ]
    }
   ],
   "source": [
    "import time, random\n",
    "ids = [str(random.randint(1000000, 9999999)) for _ in range(10000)]\n",
    "\n",
    "\n",
    "total_time_no_dict = 0\n",
    "for identifier in ids:\n",
    "    start = time.time() #set begin time\n",
    "    data.get_laptop_from_id(identifier) #first function\n",
    "    end = time.time() #set end time\n",
    "    total_time_no_dict += end-start #add how much time this function spends of each price\n",
    "    \n",
    "total_time_dict = 0\n",
    "for identifier in ids:\n",
    "    start = time.time() #set begin time\n",
    "    data.get_laptop_from_id_fast(identifier) #second function\n",
    "    end = time.time() #set end time\n",
    "    total_time_dict += end-start #add how much time this function spends of each price\n",
    "    \n",
    "\n",
    "print('Time of first function: ',total_time_no_dict)\n",
    "print('Time of second function: ',total_time_dict)"
   ]
  },
  {
   "cell_type": "markdown",
   "metadata": {},
   "source": [
    "According to the result, we can conclude that creating new dictionary could be searched faster than using list which contains whole data."
   ]
  },
  {
   "cell_type": "markdown",
   "metadata": {},
   "source": [
    "### Data check promotion dollars function\n",
    "\n",
    "test function by input price 1000 dollars and 442 dollars."
   ]
  },
  {
   "cell_type": "code",
   "execution_count": 10,
   "metadata": {},
   "outputs": [
    {
     "name": "stdout",
     "output_type": "stream",
     "text": [
      "True\n"
     ]
    }
   ],
   "source": [
    "print(data.check_promotion_dollars(1000))"
   ]
  },
  {
   "cell_type": "code",
   "execution_count": 11,
   "metadata": {},
   "outputs": [
    {
     "name": "stdout",
     "output_type": "stream",
     "text": [
      "False\n"
     ]
    }
   ],
   "source": [
    "print(data.check_promotion_dollars(442))"
   ]
  },
  {
   "cell_type": "markdown",
   "metadata": {},
   "source": [
    "### Data check promotion dollars fast function\n",
    "test function by input price 1000 dollars and 442 dollars."
   ]
  },
  {
   "cell_type": "code",
   "execution_count": 12,
   "metadata": {},
   "outputs": [
    {
     "name": "stdout",
     "output_type": "stream",
     "text": [
      "True\n"
     ]
    }
   ],
   "source": [
    "print(data.check_promotion_dollars_fast(1000))"
   ]
  },
  {
   "cell_type": "code",
   "execution_count": 13,
   "metadata": {
    "scrolled": true
   },
   "outputs": [
    {
     "name": "stdout",
     "output_type": "stream",
     "text": [
      "False\n"
     ]
    }
   ],
   "source": [
    "print(data.check_promotion_dollars_fast(442))"
   ]
  },
  {
   "cell_type": "markdown",
   "metadata": {},
   "source": [
    "### Compare how fast between two function\n",
    "In this section, we will use random to create list which contains different 100 prices. It could help to clearly see time difference between two function."
   ]
  },
  {
   "cell_type": "code",
   "execution_count": 14,
   "metadata": {
    "scrolled": false
   },
   "outputs": [
    {
     "name": "stdout",
     "output_type": "stream",
     "text": [
      "Time of first function:  22.48433756828308\n",
      "Time of second function:  1.0614807605743408\n"
     ]
    }
   ],
   "source": [
    "prices = [random.randint(100,5000) for _ in range(100)]\n",
    "\n",
    "total_time=0\n",
    "for price in prices:\n",
    "    start = time.time() #set begin time\n",
    "    data.check_promotion_dollars(price) #first function\n",
    "    end = time.time() #set end time\n",
    "    total_time += end-start #add how much time this function spends of each price\n",
    "    \n",
    "total_time_list=0\n",
    "for price in prices:\n",
    "    start = time.time() #set begin time\n",
    "    data.check_promotion_dollars_fast(price) #second function\n",
    "    end = time.time() #set end time\n",
    "    total_time_list += end-start #add how much time this function spends of each price\n",
    "\n",
    "print('Time of first function: ',total_time)\n",
    "print('Time of second function: ',total_time_list)"
   ]
  },
  {
   "cell_type": "markdown",
   "metadata": {},
   "source": [
    "According to the result, we can conclude that creating new list could be searched faster than using list which contains whole data."
   ]
  },
  {
   "cell_type": "markdown",
   "metadata": {},
   "source": [
    "### Data find fist laptop more expensive function\n",
    "\n",
    "test function by input price 1000 dollars and 1000 dollars. It will return the number of row if it found but it not, it will return -1."
   ]
  },
  {
   "cell_type": "code",
   "execution_count": 15,
   "metadata": {},
   "outputs": [
    {
     "name": "stdout",
     "output_type": "stream",
     "text": [
      "682\n"
     ]
    }
   ],
   "source": [
    "print(data.find_first_laptop_more_expensive(1000))"
   ]
  },
  {
   "cell_type": "code",
   "execution_count": 16,
   "metadata": {
    "scrolled": true
   },
   "outputs": [
    {
     "name": "stdout",
     "output_type": "stream",
     "text": [
      "-1\n"
     ]
    }
   ],
   "source": [
    "print(data.find_first_laptop_more_expensive(10000))"
   ]
  }
 ],
 "metadata": {
  "kernelspec": {
   "display_name": "Python 3",
   "language": "python",
   "name": "python3"
  },
  "language_info": {
   "codemirror_mode": {
    "name": "ipython",
    "version": 3
   },
   "file_extension": ".py",
   "mimetype": "text/x-python",
   "name": "python",
   "nbconvert_exporter": "python",
   "pygments_lexer": "ipython3",
   "version": "3.8.2"
  }
 },
 "nbformat": 4,
 "nbformat_minor": 2
}
